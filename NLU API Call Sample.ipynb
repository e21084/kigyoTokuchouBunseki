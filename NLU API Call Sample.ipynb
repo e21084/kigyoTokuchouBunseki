{
    "nbformat_minor": 1, 
    "metadata": {
        "language_info": {
            "nbconvert_exporter": "python", 
            "codemirror_mode": {
                "name": "ipython", 
                "version": 2
            }, 
            "pygments_lexer": "ipython2", 
            "name": "python", 
            "file_extension": ".py", 
            "version": "2.7.11", 
            "mimetype": "text/x-python"
        }, 
        "kernelspec": {
            "language": "python", 
            "name": "python2-spark20", 
            "display_name": "Python 2 with Spark 2.0"
        }
    }, 
    "nbformat": 4, 
    "cells": [
        {
            "execution_count": 5, 
            "metadata": {
                "scrolled": true
            }, 
            "source": "# call Watson API from your DSX enviroment!\n# \"!pip install watson_developer_cloud\" will be required on your DSX enviroment....\n\n# detail instruction is here! \n# Data Science Experience\u304b\u3089Watson API Natural Language Understanding\u3092\u5b9f\u884c\u3059\u308b - Qiita\n# https://www.facebook.com/IBM.Ishii/posts/1700973539927128?notif_id=1507623693077137&notif_t=like\n\nimport json\nfrom watson_developer_cloud import NaturalLanguageUnderstandingV1\nimport watson_developer_cloud.natural_language_understanding.features.v1 as \\\n    Features\n\nnatural_language_understanding = NaturalLanguageUnderstandingV1(\n    version='2017-02-27',\n    username=\"559a6a1a-a0fb-44f0-8c25-5d18fbfbb899\",\n    password=\"HJf1OtoiIBv8\")\n\nresponse = natural_language_understanding.analyze(\n    text='Bruce Banner is the Hulk and Bruce Wayne is BATMAN! '\n         'Superman fears not Banner, but Wayne.',\n    features=[Features.Entities(), Features.Keywords()])\n\nprint(json.dumps(response, indent=2))\n", 
            "outputs": [
                {
                    "name": "stdout", 
                    "output_type": "stream", 
                    "text": "{\n  \"usage\": {\n    \"text_characters\": 89, \n    \"features\": 2, \n    \"text_units\": 1\n  }, \n  \"keywords\": [\n    {\n      \"relevance\": 0.996186, \n      \"text\": \"Bruce Banner\"\n    }, \n    {\n      \"relevance\": 0.963163, \n      \"text\": \"Bruce Wayne\"\n    }, \n    {\n      \"relevance\": 0.637163, \n      \"text\": \"Hulk\"\n    }, \n    {\n      \"relevance\": 0.612517, \n      \"text\": \"Superman\"\n    }, \n    {\n      \"relevance\": 0.5912, \n      \"text\": \"BATMAN\"\n    }\n  ], \n  \"language\": \"en\", \n  \"entities\": [\n    {\n      \"relevance\": 0.931351, \n      \"text\": \"Bruce Banner\", \n      \"type\": \"Person\", \n      \"count\": 3\n    }, \n    {\n      \"relevance\": 0.288696, \n      \"text\": \"Wayne\", \n      \"type\": \"Person\", \n      \"count\": 1\n    }\n  ]\n}\n"
                }
            ], 
            "cell_type": "code"
        }, 
        {
            "execution_count": 6, 
            "metadata": {}, 
            "source": "!pip list --isolated", 
            "outputs": [
                {
                    "name": "stdout", 
                    "output_type": "stream", 
                    "text": "\u001b[31mDEPRECATION: The default format will switch to columns in the future. You can use --format=(legacy|columns) (or define a format=(legacy|columns) in your pip.conf under the [list] section) to disable this warning.\u001b[0m\nappdirs (1.4.3)\nasn1crypto (0.23.0)\nBabel (2.1.1)\nbackports-abc (0.4)\nbackports.shutil-get-terminal-size (1.0.0)\nbackports.ssl-match-hostname (3.4.0.2)\nbackports.weakref (1.0rc1)\nbasemap (1.0.7)\nbeautifulsoup4 (4.4.1)\nbiopython (1.66)\nbitarray (0.8.1)\nbleach (2.0.0)\nbokeh (0.12.5)\nboto3 (1.4.4)\nbotocore (1.5.50)\nbrunel (2.3)\ncdsax-jupyter-extensions (0.1)\ncertifi (2017.1.23)\ncffi (1.11.0)\ncognitive-assistant (1.0.43)\nconfigparser (3.5.0)\ncryptography (2.0.3)\ncycler (0.9.0)\nCython (0.23.4)\ndebtcollector (1.1.0)\ndecorator (4.0.6)\ndescartes (1.0.1)\ndill (0.2.5)\ndlaas-client (0.1.35)\ndocutils (0.13.1)\nentrypoints (0.2.2)\nenum (0.4.6)\nenum34 (1.1.5)\nextension-utils (0.1.47)\nextras (0.0.3)\nfixtures (2.0.0)\nFlask (0.10.1)\nfuncsigs (1.0.2)\nfunctools32 (3.2.3.post2)\nfuture (0.15.2)\nfutures (3.0.5)\ngeojson (1.3.5)\ngeopy (1.11.0)\nhtml5lib (0.999999999)\nibmdbpy (0.1.4)\nibmos2spark (1.0.0)\nidna (2.6)\nip-associations-python-novaclient-ext (0.1)\nipaddress (1.0.18)\nipykernel (4.6.1)\nipython (5.3.0)\nipython-genutils (0.1.0)\nipywidgets (6.0.0)\niso8601 (0.1.11)\nitsdangerous (0.24)\nJayDeBeApi (0.2.0)\nJinja2 (2.8)\njmespath (0.9.2)\nJPype1 (0.6.1)\njsonschema (2.5.1)\njupyter-client (5.1.0)\njupyter-core (4.3.0)\njupyter-kernel-gateway (1.2.2)\njupyter-pip (0.3)\nKeras (2.0.5)\nkeyring (5.7)\nkeystoneauth1 (2.1.0)\nLasagne (0.2.dev1)\nlazy (1.2)\nlinecache2 (1.0.0)\nlxml (3.5.0)\nMarkdown (2.6.8)\nMarkupSafe (0.23)\nmatplotlib (1.5.0)\nmaven-artifact (0.1.6)\nmistune (0.7.1)\nml-algorithms (1.1.11.post201708090410)\nml-pipeline (1.1.83.post201709060426)\nmock (2.0.0)\nmonotonic (0.4)\nmpld3 (0.2)\nmplleaflet (0.0.5)\nmsgpack-python (0.4.6)\nMySQL-python (1.2.5)\nnbconvert (5.1.1)\nnbformat (4.3.0)\nnetaddr (0.7.18)\nnetifaces (0.10.4)\nnetworkx (1.10)\nnltk (3.1)\nnose (1.3.7)\nnotebook (5.0.0)\nnumexpr (2.4.6)\nnumpy (1.13.1)\nos-diskconfig-python-novaclient-ext (0.1.2)\nos-networksv2-python-novaclient-ext (0.25)\nos-virtual-interfacesv2-python-novaclient-ext (0.19)\noslo.config (3.1.0)\noslo.i18n (3.1.0)\noslo.serialization (2.1.0)\noslo.utils (3.2.0)\npackaging (16.8)\npandas (0.17.1)\npandocfilters (1.4.1)\npath.py (8.1.2)\npathlib2 (2.2.1)\npatsy (0.4.1)\npbr (1.8.1)\npexpect (4.0.1)\npickleshare (0.5)\nPillow (3.0.0)\npip (9.0.1)\npixiedust (1.0.11)\nplotly (2.0.12)\nprettytable (0.7.2)\nprojectnb (0.1.6)\nprompt-toolkit (1.0.14)\nprotobuf (3.0.0b2)\npsycopg2 (2.5.4)\nptyprocess (0.5)\npycparser (2.18)\nPygments (2.0.2)\npyOpenSSL (17.3.0)\npyparsing (2.0.6)\npyproj (1.9.4)\npypyodbc (1.3.4)\npyrax (1.9.5)\npyshp (1.2.3)\npysolr (3.6.0)\npython-dateutil (2.4.2)\npython-keystoneclient (2.0.0)\npython-mimeparse (1.5.1)\npython-novaclient (2.35.0)\npython-subunit (1.2.0)\npython-swiftclient (3.4.0)\npytz (2017.2)\nPyYAML (3.11)\npyzmq (15.1.0)\nrackspace-auth-openstack (1.3)\nrackspace-novaclient (1.5)\nrax-default-network-flags-python-novaclient-ext (0.3.2)\nrax-scheduled-images-python-novaclient-ext (0.3.1)\nrepository (0.1.254.post201709072302)\nrepoze.lru (0.6)\nrequests (2.9.1)\ns3transfer (0.1.10)\nscandir (1.5)\nscikit-image (0.11.3)\nscikit-learn (0.17)\nscipy (0.17.0)\nseaborn (0.7.1)\nsetuptools (36.0.1)\nsilpa-common (0.3)\nsimplegeneric (0.8.1)\nsimplejson (3.8.1)\nsingledispatch (3.4.0.3)\nsix (1.10.0)\nsklearn-pipeline (0.1.507)\nsoundex (1.1.3)\nstatsmodels (0.6.1)\nstevedore (1.10.0)\nstreamsx (1.6.0)\nsympy (0.7.6.1)\nsystemml (0.14.0)\ntensorflow (1.2.1)\nterminado (0.5)\ntestpath (0.3.1)\ntestrepository (0.0.20)\ntesttools (2.1.0)\nTheano (0.8.2)\ntornado (4.3)\ntraceback2 (1.4.0)\ntraitlets (4.2.1)\ntransformation (0.1.96)\nunittest2 (1.1.0)\nurllib3 (1.14)\nwatson-developer-cloud (0.26.1)\nwcwidth (0.1.7)\nwebencodings (0.5.1)\nWerkzeug (0.12.2)\nwheel (0.29.0)\nwidgetsnbextension (2.0.0)\nwrapt (1.10.6)\nxgboost (0.6a2)\n"
                }
            ], 
            "cell_type": "code"
        }, 
        {
            "execution_count": 4, 
            "metadata": {}, 
            "source": "!pip install watson_developer_cloud", 
            "outputs": [
                {
                    "name": "stdout", 
                    "output_type": "stream", 
                    "text": "Collecting watson_developer_cloud\n  Downloading watson-developer-cloud-0.26.1.tar.gz (66kB)\n\u001b[K    100% |\u2588\u2588\u2588\u2588\u2588\u2588\u2588\u2588\u2588\u2588\u2588\u2588\u2588\u2588\u2588\u2588\u2588\u2588\u2588\u2588\u2588\u2588\u2588\u2588\u2588\u2588\u2588\u2588\u2588\u2588\u2588\u2588| 71kB 5.1MB/s eta 0:00:01\n\u001b[?25hRequirement already satisfied: requests<3.0,>=2.0 in /usr/local/src/bluemix_jupyter_bundle.v62/notebook/lib/python2.7/site-packages (from watson_developer_cloud)\nCollecting pysolr<4.0,>=3.3 (from watson_developer_cloud)\n  Downloading pysolr-3.6.0-py2.py3-none-any.whl\nCollecting pyOpenSSL>=16.2.0 (from watson_developer_cloud)\n  Downloading pyOpenSSL-17.3.0-py2.py3-none-any.whl (51kB)\n\u001b[K    100% |\u2588\u2588\u2588\u2588\u2588\u2588\u2588\u2588\u2588\u2588\u2588\u2588\u2588\u2588\u2588\u2588\u2588\u2588\u2588\u2588\u2588\u2588\u2588\u2588\u2588\u2588\u2588\u2588\u2588\u2588\u2588\u2588| 51kB 1.8MB/s eta 0:00:01\n\u001b[?25hCollecting cryptography>=1.9 (from pyOpenSSL>=16.2.0->watson_developer_cloud)\n  Downloading cryptography-2.0.3-cp27-cp27mu-manylinux1_x86_64.whl (2.2MB)\n\u001b[K    100% |\u2588\u2588\u2588\u2588\u2588\u2588\u2588\u2588\u2588\u2588\u2588\u2588\u2588\u2588\u2588\u2588\u2588\u2588\u2588\u2588\u2588\u2588\u2588\u2588\u2588\u2588\u2588\u2588\u2588\u2588\u2588\u2588| 2.2MB 449kB/s eta 0:00:01\n\u001b[?25hRequirement already satisfied: six>=1.5.2 in /usr/local/src/bluemix_jupyter_bundle.v62/notebook/lib/python2.7/site-packages (from pyOpenSSL>=16.2.0->watson_developer_cloud)\nCollecting asn1crypto>=0.21.0 (from cryptography>=1.9->pyOpenSSL>=16.2.0->watson_developer_cloud)\n  Downloading asn1crypto-0.23.0-py2.py3-none-any.whl (99kB)\n\u001b[K    100% |\u2588\u2588\u2588\u2588\u2588\u2588\u2588\u2588\u2588\u2588\u2588\u2588\u2588\u2588\u2588\u2588\u2588\u2588\u2588\u2588\u2588\u2588\u2588\u2588\u2588\u2588\u2588\u2588\u2588\u2588\u2588\u2588| 102kB 6.5MB/s ta 0:00:01\n\u001b[?25hCollecting ipaddress (from cryptography>=1.9->pyOpenSSL>=16.2.0->watson_developer_cloud)\n  Downloading ipaddress-1.0.18-py2-none-any.whl\nCollecting idna>=2.1 (from cryptography>=1.9->pyOpenSSL>=16.2.0->watson_developer_cloud)\n  Downloading idna-2.6-py2.py3-none-any.whl (56kB)\n\u001b[K    100% |\u2588\u2588\u2588\u2588\u2588\u2588\u2588\u2588\u2588\u2588\u2588\u2588\u2588\u2588\u2588\u2588\u2588\u2588\u2588\u2588\u2588\u2588\u2588\u2588\u2588\u2588\u2588\u2588\u2588\u2588\u2588\u2588| 61kB 5.6MB/s eta 0:00:01\n\u001b[?25hCollecting cffi>=1.7 (from cryptography>=1.9->pyOpenSSL>=16.2.0->watson_developer_cloud)\n  Downloading cffi-1.11.0-cp27-cp27mu-manylinux1_x86_64.whl (405kB)\n\u001b[K    100% |\u2588\u2588\u2588\u2588\u2588\u2588\u2588\u2588\u2588\u2588\u2588\u2588\u2588\u2588\u2588\u2588\u2588\u2588\u2588\u2588\u2588\u2588\u2588\u2588\u2588\u2588\u2588\u2588\u2588\u2588\u2588\u2588| 409kB 2.4MB/s eta 0:00:01\n\u001b[?25hRequirement already satisfied: enum34 in /usr/local/src/bluemix_jupyter_bundle.v62/notebook/lib/python2.7/site-packages (from cryptography>=1.9->pyOpenSSL>=16.2.0->watson_developer_cloud)\nCollecting pycparser (from cffi>=1.7->cryptography>=1.9->pyOpenSSL>=16.2.0->watson_developer_cloud)\n  Downloading pycparser-2.18.tar.gz (245kB)\n\u001b[K    100% |\u2588\u2588\u2588\u2588\u2588\u2588\u2588\u2588\u2588\u2588\u2588\u2588\u2588\u2588\u2588\u2588\u2588\u2588\u2588\u2588\u2588\u2588\u2588\u2588\u2588\u2588\u2588\u2588\u2588\u2588\u2588\u2588| 256kB 3.6MB/s eta 0:00:01\n\u001b[?25hBuilding wheels for collected packages: watson-developer-cloud, pycparser\n  Running setup.py bdist_wheel for watson-developer-cloud ... \u001b[?25ldone\n\u001b[?25h  Stored in directory: /gpfs/fs01/user/sa8a-6b6c013d8a077c-64943ba3a093/.cache/pip/wheels/4e/58/1a/77ae16667b7a0ff82fb3d7dd6c4c615ede8e469803f31f79a7\n  Running setup.py bdist_wheel for pycparser ... \u001b[?25ldone\n\u001b[?25h  Stored in directory: /gpfs/fs01/user/sa8a-6b6c013d8a077c-64943ba3a093/.cache/pip/wheels/95/14/9a/5e7b9024459d2a6600aaa64e0ba485325aff7a9ac7489db1b6\nSuccessfully built watson-developer-cloud pycparser\nInstalling collected packages: pysolr, asn1crypto, ipaddress, idna, pycparser, cffi, cryptography, pyOpenSSL, watson-developer-cloud\nSuccessfully installed asn1crypto-0.23.0 cffi-1.11.0 cryptography-2.0.3 idna-2.6 ipaddress-1.0.18 pyOpenSSL-17.3.0 pycparser-2.18 pysolr-3.6.0 watson-developer-cloud-0.26.1\n"
                }
            ], 
            "cell_type": "code"
        }, 
        {
            "execution_count": null, 
            "metadata": {
                "collapsed": true
            }, 
            "source": "", 
            "outputs": [], 
            "cell_type": "code"
        }, 
        {
            "execution_count": null, 
            "metadata": {
                "collapsed": true
            }, 
            "source": "", 
            "outputs": [], 
            "cell_type": "code"
        }
    ]
}