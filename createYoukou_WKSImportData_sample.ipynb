{
    "metadata": {
        "kernelspec": {
            "name": "python2-spark20", 
            "display_name": "Python 2 with Spark 2.0", 
            "language": "python"
        }, 
        "language_info": {
            "version": "2.7.11", 
            "name": "python", 
            "mimetype": "text/x-python", 
            "pygments_lexer": "ipython2", 
            "codemirror_mode": {
                "version": 2, 
                "name": "ipython"
            }, 
            "file_extension": ".py", 
            "nbconvert_exporter": "python"
        }
    }, 
    "cells": [
        {
            "metadata": {}, 
            "cell_type": "code", 
            "outputs": [
                {
                    "metadata": {}, 
                    "output_type": "execute_result", 
                    "execution_count": 1, 
                    "data": {
                        "text/html": "<div>\n<table border=\"1\" class=\"dataframe\">\n  <thead>\n    <tr style=\"text-align: right;\">\n      <th></th>\n      <th>ID</th>\n      <th>URI</th>\n      <th>TEXT_CONTENT</th>\n      <th>001_c01</th>\n      <th>002_c02</th>\n      <th>004_c04</th>\n      <th>015_c15</th>\n      <th>016_c16</th>\n      <th>018_c18</th>\n      <th>019_c19</th>\n      <th>...</th>\n      <th>022_c22</th>\n      <th>023_c23</th>\n      <th>024_c24</th>\n      <th>025_c25</th>\n      <th>026_c26</th>\n      <th>038_c38</th>\n      <th>039_c39</th>\n      <th>title</th>\n      <th>DATE</th>\n      <th>DATE_FACET_ID</th>\n    </tr>\n  </thead>\n  <tbody>\n    <tr>\n      <th>0</th>\n      <td>1</td>\n      <td>csv://%2Fbkup%2Fwork%2Finfr%2FCollection%2Fyou...</td>\n      <td>\u4ed5\u4e8b\u91cf\u30fb\u5358\u4fa1\u5171\u306b\u6e1b\u5c11\u50be\u5411 \u4f01\u696d\u898f\u6a21\u7b49\u52d8\u6848\u3057\u3066\u3082\u3001\u5341\u5206\u3068\u306f\u8a00\u3044\u96e3\u3044\u3002 \u4ed5\u4e8b\u91cf\u306f\u4e0d\u5b89\u5b9a \u5f79\u54e1\u3068\u306e...</td>\n      <td>541</td>\n      <td>1038230</td>\n      <td>1060049</td>\n      <td>28</td>\n      <td>28</td>\n      <td>NaN</td>\n      <td>2</td>\n      <td>...</td>\n      <td>3</td>\n      <td>\u65c5\u5ba2\u81ea\u52d5\u8eca\u904b\u9001\u696d</td>\n      <td>310109</td>\n      <td>\u8cb8\u5207\u89b3\u5149\u30d0\u30b9</td>\n      <td>1</td>\n      <td>1986</td>\n      <td>\u5f53\u5730</td>\n      <td>NaN</td>\n      <td>0</td>\n      <td>19700101</td>\n    </tr>\n    <tr>\n      <th>1</th>\n      <td>2</td>\n      <td>csv://%2Fbkup%2Fwork%2Finfr%2FCollection%2Fyou...</td>\n      <td>\u501f\u5165\u6761\u4ef6\u306e\u512a\u4f4d\u6027\u3092\u671f\u5f85 \u89aa\u4f1a\u793e\u4fe1\u7528\u529b\u3092\u80cc\u666f\u306b\u7a4d\u6975\u5bfe\u5fdc \u8fd1\u757f\u30b3\u30ab\u30fb\u30aa\u30ea\u30c3\u30af\u30b9\u5411\u3051\u5b89\u5b9a\u3057\u305f\u8ca9\u8def\u6709...</td>\n      <td>503</td>\n      <td>1060279</td>\n      <td>1060279</td>\n      <td>NaN</td>\n      <td>NaN</td>\n      <td>\u8fd1\u757f\u30b3\u30ab\u30fb\u30b3\u30fc\u30e9\u30dc\u30c8\u30ea\u30f3\u30b0\u682a\u5f0f\u4f1a\u793e</td>\n      <td>5</td>\n      <td>...</td>\n      <td>3</td>\n      <td>\u81ea\u52d5\u8eca\u8cc3\u8cb8\u696d</td>\n      <td>510901</td>\n      <td>\u81ea\u5bb6\u7528\u81ea\u52d5\u8eca\u30fb\u8ca8\u7269\u8eca</td>\n      <td>0</td>\n      <td>1993</td>\n      <td>\u5927\u962a\u5e9c\u6442\u6d25\u5e02</td>\n      <td>NaN</td>\n      <td>0</td>\n      <td>19700101</td>\n    </tr>\n    <tr>\n      <th>2</th>\n      <td>3</td>\n      <td>csv://%2Fbkup%2Fwork%2Finfr%2FCollection%2Fyou...</td>\n      <td>\u95a2\u4e00\u7ae0\u540d\u7fa9\u306e\u501f\u5165\u5727\u7e2e\u306b\u6ce8\u529b \u4e00\u822c\u9867\u5ba2(\u500b\u4eba+\u30bc\u30cd\u30b3\u30f3\u30fb\u91d1\u878d\u6a5f\u95a2\u7b49\u306e\u6cd5\u4eba) \u6a2a\u6d5c\u99c5\u5468\u8fba\u306e\u8001\u8217\u6599...</td>\n      <td>292</td>\n      <td>1042548</td>\n      <td>110031</td>\n      <td>17</td>\n      <td>16</td>\n      <td>NaN</td>\n      <td>4</td>\n      <td>...</td>\n      <td>3</td>\n      <td>\u98f2\u98df\u696d(\u6599\u4ead)</td>\n      <td>NaN</td>\n      <td>\u6599\u4ead</td>\n      <td>1</td>\n      <td>1953</td>\n      <td>\u5f53\u5730</td>\n      <td>NaN</td>\n      <td>0</td>\n      <td>19700101</td>\n    </tr>\n    <tr>\n      <th>3</th>\n      <td>4</td>\n      <td>csv://%2Fbkup%2Fwork%2Finfr%2FCollection%2Fyou...</td>\n      <td>\u5927 (\u682a)\u30ca\u30ac\u30bb\u304b\u3089\u306e\u914d\u5f53\u91d1\u304c\u53ce\u5165\u6e90\u3002 \u2212 \u2212 \u2212 \u9999\u6e2f\u306e\u5206\u8b72\u30de\u30f3\u30b7\u30e7\u30f3\u8cfc\u5165\u8cc7\u91d1155M\u652f\u63f4...</td>\n      <td>246</td>\n      <td>1013505</td>\n      <td>1100037</td>\n      <td>27</td>\n      <td>26</td>\n      <td>NaN</td>\n      <td>2</td>\n      <td>...</td>\n      <td>3</td>\n      <td>\u4e0d\u52d5\u7523\u58f2\u8cb7\u30fb\u4ef2\u4ecb\u30fb\u7ba1\u7406\u696d</td>\n      <td>500301</td>\n      <td>NaN</td>\n      <td>1</td>\n      <td>1988</td>\n      <td>NaN</td>\n      <td>NaN</td>\n      <td>0</td>\n      <td>19700101</td>\n    </tr>\n    <tr>\n      <th>4</th>\n      <td>5</td>\n      <td>csv://%2Fbkup%2Fwork%2Finfr%2FCollection%2Fyou...</td>\n      <td>\u5ddd\u5d0e\u5730\u533a\u4e0d\u52d5\u7523\u7269\u4ef6\u8cc3\u8cb8\u30fb\u58f2\u8cb7 \u591a\u6570\u306e\u9867\u5ba2\u6570\u78ba\u4fdd\u3002\u5730\u533a\u5185\u5f53\u793e\u7269\u4ef6\u3082\u591a\u304f\u7af6\u4e89\u529b\u9ad8\u3057 \u7ba1\u7406\u9867\u5ba25,...</td>\n      <td>370</td>\n      <td>1145541</td>\n      <td>2746809</td>\n      <td>NaN</td>\n      <td>NaN</td>\n      <td>NaN</td>\n      <td>5</td>\n      <td>...</td>\n      <td>3</td>\n      <td>\u5efa\u7269\u58f2\u8cb7\u696d</td>\n      <td>500303</td>\n      <td>NaN</td>\n      <td>0</td>\n      <td>1984</td>\n      <td>\u5ddd\u5d0e\u6771\u9580\u524d</td>\n      <td>NaN</td>\n      <td>0</td>\n      <td>19700101</td>\n    </tr>\n  </tbody>\n</table>\n<p>5 rows \u00d7 22 columns</p>\n</div>", 
                        "text/plain": "   ID                                                URI  \\\n0   1  csv://%2Fbkup%2Fwork%2Finfr%2FCollection%2Fyou...   \n1   2  csv://%2Fbkup%2Fwork%2Finfr%2FCollection%2Fyou...   \n2   3  csv://%2Fbkup%2Fwork%2Finfr%2FCollection%2Fyou...   \n3   4  csv://%2Fbkup%2Fwork%2Finfr%2FCollection%2Fyou...   \n4   5  csv://%2Fbkup%2Fwork%2Finfr%2FCollection%2Fyou...   \n\n                                        TEXT_CONTENT  001_c01  002_c02  \\\n0  \u4ed5\u4e8b\u91cf\u30fb\u5358\u4fa1\u5171\u306b\u6e1b\u5c11\u50be\u5411 \u4f01\u696d\u898f\u6a21\u7b49\u52d8\u6848\u3057\u3066\u3082\u3001\u5341\u5206\u3068\u306f\u8a00\u3044\u96e3\u3044\u3002 \u4ed5\u4e8b\u91cf\u306f\u4e0d\u5b89\u5b9a \u5f79\u54e1\u3068\u306e...      541  1038230   \n1  \u501f\u5165\u6761\u4ef6\u306e\u512a\u4f4d\u6027\u3092\u671f\u5f85 \u89aa\u4f1a\u793e\u4fe1\u7528\u529b\u3092\u80cc\u666f\u306b\u7a4d\u6975\u5bfe\u5fdc \u8fd1\u757f\u30b3\u30ab\u30fb\u30aa\u30ea\u30c3\u30af\u30b9\u5411\u3051\u5b89\u5b9a\u3057\u305f\u8ca9\u8def\u6709...      503  1060279   \n2  \u95a2\u4e00\u7ae0\u540d\u7fa9\u306e\u501f\u5165\u5727\u7e2e\u306b\u6ce8\u529b \u4e00\u822c\u9867\u5ba2(\u500b\u4eba+\u30bc\u30cd\u30b3\u30f3\u30fb\u91d1\u878d\u6a5f\u95a2\u7b49\u306e\u6cd5\u4eba) \u6a2a\u6d5c\u99c5\u5468\u8fba\u306e\u8001\u8217\u6599...      292  1042548   \n3  \u5927 (\u682a)\u30ca\u30ac\u30bb\u304b\u3089\u306e\u914d\u5f53\u91d1\u304c\u53ce\u5165\u6e90\u3002 \u2212 \u2212 \u2212 \u9999\u6e2f\u306e\u5206\u8b72\u30de\u30f3\u30b7\u30e7\u30f3\u8cfc\u5165\u8cc7\u91d1155M\u652f\u63f4...      246  1013505   \n4  \u5ddd\u5d0e\u5730\u533a\u4e0d\u52d5\u7523\u7269\u4ef6\u8cc3\u8cb8\u30fb\u58f2\u8cb7 \u591a\u6570\u306e\u9867\u5ba2\u6570\u78ba\u4fdd\u3002\u5730\u533a\u5185\u5f53\u793e\u7269\u4ef6\u3082\u591a\u304f\u7af6\u4e89\u529b\u9ad8\u3057 \u7ba1\u7406\u9867\u5ba25,...      370  1145541   \n\n   004_c04  015_c15  016_c16            018_c18  019_c19      ...        \\\n0  1060049       28       28                NaN        2      ...         \n1  1060279      NaN      NaN  \u8fd1\u757f\u30b3\u30ab\u30fb\u30b3\u30fc\u30e9\u30dc\u30c8\u30ea\u30f3\u30b0\u682a\u5f0f\u4f1a\u793e        5      ...         \n2   110031       17       16                NaN        4      ...         \n3  1100037       27       26                NaN        2      ...         \n4  2746809      NaN      NaN                NaN        5      ...         \n\n   022_c22       023_c23  024_c24     025_c25  026_c26 038_c38  039_c39  \\\n0        3      \u65c5\u5ba2\u81ea\u52d5\u8eca\u904b\u9001\u696d   310109      \u8cb8\u5207\u89b3\u5149\u30d0\u30b9        1    1986       \u5f53\u5730   \n1        3        \u81ea\u52d5\u8eca\u8cc3\u8cb8\u696d   510901  \u81ea\u5bb6\u7528\u81ea\u52d5\u8eca\u30fb\u8ca8\u7269\u8eca        0    1993   \u5927\u962a\u5e9c\u6442\u6d25\u5e02   \n2        3       \u98f2\u98df\u696d(\u6599\u4ead)      NaN          \u6599\u4ead        1    1953       \u5f53\u5730   \n3        3  \u4e0d\u52d5\u7523\u58f2\u8cb7\u30fb\u4ef2\u4ecb\u30fb\u7ba1\u7406\u696d   500301         NaN        1    1988      NaN   \n4        3         \u5efa\u7269\u58f2\u8cb7\u696d   500303         NaN        0    1984    \u5ddd\u5d0e\u6771\u9580\u524d   \n\n   title DATE  DATE_FACET_ID  \n0    NaN    0       19700101  \n1    NaN    0       19700101  \n2    NaN    0       19700101  \n3    NaN    0       19700101  \n4    NaN    0       19700101  \n\n[5 rows x 22 columns]"
                    }
                }
            ], 
            "execution_count": 1, 
            "source": "# The code was removed by DSX for sharing."
        }, 
        {
            "metadata": {}, 
            "cell_type": "code", 
            "outputs": [
                {
                    "metadata": {}, 
                    "output_type": "execute_result", 
                    "execution_count": 22, 
                    "data": {
                        "text/plain": "(95, 22)"
                    }
                }
            ], 
            "execution_count": 22, 
            "source": "#\u884c\u6570\u3068\u30ab\u30e9\u30e0\u6570\u3092\u78ba\u8a8d\ndf_data_1.shape"
        }, 
        {
            "metadata": {}, 
            "cell_type": "code", 
            "outputs": [
                {
                    "metadata": {}, 
                    "output_type": "execute_result", 
                    "execution_count": 23, 
                    "data": {
                        "text/html": "<div>\n<table border=\"1\" class=\"dataframe\">\n  <thead>\n    <tr style=\"text-align: right;\">\n      <th></th>\n      <th>ID</th>\n      <th>TEXT_CONTENT</th>\n    </tr>\n  </thead>\n  <tbody>\n    <tr>\n      <th>0</th>\n      <td>1</td>\n      <td>\u4ed5\u4e8b\u91cf\u30fb\u5358\u4fa1\u5171\u306b\u6e1b\u5c11\u50be\u5411 \u4f01\u696d\u898f\u6a21\u7b49\u52d8\u6848\u3057\u3066\u3082\u3001\u5341\u5206\u3068\u306f\u8a00\u3044\u96e3\u3044\u3002 \u4ed5\u4e8b\u91cf\u306f\u4e0d\u5b89\u5b9a \u5f79\u54e1\u3068\u306e...</td>\n    </tr>\n    <tr>\n      <th>1</th>\n      <td>2</td>\n      <td>\u501f\u5165\u6761\u4ef6\u306e\u512a\u4f4d\u6027\u3092\u671f\u5f85 \u89aa\u4f1a\u793e\u4fe1\u7528\u529b\u3092\u80cc\u666f\u306b\u7a4d\u6975\u5bfe\u5fdc \u8fd1\u757f\u30b3\u30ab\u30fb\u30aa\u30ea\u30c3\u30af\u30b9\u5411\u3051\u5b89\u5b9a\u3057\u305f\u8ca9\u8def\u6709...</td>\n    </tr>\n    <tr>\n      <th>2</th>\n      <td>3</td>\n      <td>\u95a2\u4e00\u7ae0\u540d\u7fa9\u306e\u501f\u5165\u5727\u7e2e\u306b\u6ce8\u529b \u4e00\u822c\u9867\u5ba2(\u500b\u4eba+\u30bc\u30cd\u30b3\u30f3\u30fb\u91d1\u878d\u6a5f\u95a2\u7b49\u306e\u6cd5\u4eba) \u6a2a\u6d5c\u99c5\u5468\u8fba\u306e\u8001\u8217\u6599...</td>\n    </tr>\n    <tr>\n      <th>3</th>\n      <td>4</td>\n      <td>\u5927 (\u682a)\u30ca\u30ac\u30bb\u304b\u3089\u306e\u914d\u5f53\u91d1\u304c\u53ce\u5165\u6e90\u3002 \u2212 \u2212 \u2212 \u9999\u6e2f\u306e\u5206\u8b72\u30de\u30f3\u30b7\u30e7\u30f3\u8cfc\u5165\u8cc7\u91d1155M\u652f\u63f4...</td>\n    </tr>\n    <tr>\n      <th>4</th>\n      <td>5</td>\n      <td>\u5ddd\u5d0e\u5730\u533a\u4e0d\u52d5\u7523\u7269\u4ef6\u8cc3\u8cb8\u30fb\u58f2\u8cb7 \u591a\u6570\u306e\u9867\u5ba2\u6570\u78ba\u4fdd\u3002\u5730\u533a\u5185\u5f53\u793e\u7269\u4ef6\u3082\u591a\u304f\u7af6\u4e89\u529b\u9ad8\u3057 \u7ba1\u7406\u9867\u5ba25,...</td>\n    </tr>\n  </tbody>\n</table>\n</div>", 
                        "text/plain": "   ID                                       TEXT_CONTENT\n0   1  \u4ed5\u4e8b\u91cf\u30fb\u5358\u4fa1\u5171\u306b\u6e1b\u5c11\u50be\u5411 \u4f01\u696d\u898f\u6a21\u7b49\u52d8\u6848\u3057\u3066\u3082\u3001\u5341\u5206\u3068\u306f\u8a00\u3044\u96e3\u3044\u3002 \u4ed5\u4e8b\u91cf\u306f\u4e0d\u5b89\u5b9a \u5f79\u54e1\u3068\u306e...\n1   2  \u501f\u5165\u6761\u4ef6\u306e\u512a\u4f4d\u6027\u3092\u671f\u5f85 \u89aa\u4f1a\u793e\u4fe1\u7528\u529b\u3092\u80cc\u666f\u306b\u7a4d\u6975\u5bfe\u5fdc \u8fd1\u757f\u30b3\u30ab\u30fb\u30aa\u30ea\u30c3\u30af\u30b9\u5411\u3051\u5b89\u5b9a\u3057\u305f\u8ca9\u8def\u6709...\n2   3  \u95a2\u4e00\u7ae0\u540d\u7fa9\u306e\u501f\u5165\u5727\u7e2e\u306b\u6ce8\u529b \u4e00\u822c\u9867\u5ba2(\u500b\u4eba+\u30bc\u30cd\u30b3\u30f3\u30fb\u91d1\u878d\u6a5f\u95a2\u7b49\u306e\u6cd5\u4eba) \u6a2a\u6d5c\u99c5\u5468\u8fba\u306e\u8001\u8217\u6599...\n3   4  \u5927 (\u682a)\u30ca\u30ac\u30bb\u304b\u3089\u306e\u914d\u5f53\u91d1\u304c\u53ce\u5165\u6e90\u3002 \u2212 \u2212 \u2212 \u9999\u6e2f\u306e\u5206\u8b72\u30de\u30f3\u30b7\u30e7\u30f3\u8cfc\u5165\u8cc7\u91d1155M\u652f\u63f4...\n4   5  \u5ddd\u5d0e\u5730\u533a\u4e0d\u52d5\u7523\u7269\u4ef6\u8cc3\u8cb8\u30fb\u58f2\u8cb7 \u591a\u6570\u306e\u9867\u5ba2\u6570\u78ba\u4fdd\u3002\u5730\u533a\u5185\u5f53\u793e\u7269\u4ef6\u3082\u591a\u304f\u7af6\u4e89\u529b\u9ad8\u3057 \u7ba1\u7406\u9867\u5ba25,..."
                    }
                }
            ], 
            "execution_count": 23, 
            "source": "#WKS\u306bImport\u3059\u308b\u305f\u3081\u306b\uff12\u5217\u5f62\u5f0f\u306b\u3059\u308b\ndf_data_2 = df_data_1.loc[:,['ID','TEXT_CONTENT']] \ndf_data_2.head()"
        }, 
        {
            "metadata": {
                "collapsed": true
            }, 
            "cell_type": "code", 
            "outputs": [], 
            "execution_count": 24, 
            "source": "# The code was removed by DSX for sharing."
        }, 
        {
            "metadata": {}, 
            "cell_type": "code", 
            "outputs": [
                {
                    "metadata": {}, 
                    "output_type": "execute_result", 
                    "execution_count": 25, 
                    "data": {
                        "text/plain": "(True, 201)"
                    }
                }
            ], 
            "execution_count": 25, 
            "source": "csv1 = df_data_2.to_csv(None, header=False,index=False)\nWrite_CSV_to_ObjectStorage(credentials_6, csv1,\"youkou_head100_forWKSimport.csv\")"
        }, 
        {
            "metadata": {
                "collapsed": true
            }, 
            "cell_type": "code", 
            "outputs": [], 
            "execution_count": null, 
            "source": ""
        }
    ], 
    "nbformat_minor": 1, 
    "nbformat": 4
}